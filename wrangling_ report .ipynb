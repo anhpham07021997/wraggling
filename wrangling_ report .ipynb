{
 "cells": [
  {
   "cell_type": "markdown",
   "metadata": {},
   "source": [
    "# REPORT DATA WRANGLING :WE RATE DOGS DATA "
   ]
  },
  {
   "cell_type": "markdown",
   "metadata": {},
   "source": [
    "There are 3 steps in wrangling this data:\n",
    "step 1: gathering data \n",
    "step 2: acessing data\n",
    "step 3: cleaning data "
   ]
  },
  {
   "cell_type": "markdown",
   "metadata": {},
   "source": [
    "## Step1: gather data  csv,tsv, json-txt,\n",
    "in 3 different resouces including twitter_archive,image_prediction(streamm through url),tweet_selected_attr(stream through tweeter and use json write as txt) by using library pandas, numpy , request, time, tweepy ,json "
   ]
  },
  {
   "cell_type": "markdown",
   "metadata": {},
   "source": [
    "## Step2 : Acess data through  Tidiness and Quality in 2 way : visual and programmatic , I found these issue  "
   ]
  },
  {
   "cell_type": "markdown",
   "metadata": {},
   "source": [
    "\n",
    "\n",
    "### Tidiness\n",
    "\n",
    "#### Archive data \n",
    "\n",
    "\n",
    "- 1)`rating_numerator`,`rating_denominator` are redundant\n",
    "- 2)`doggo` `floofer`, `pupper`,`puppo` are redundant\n",
    "\n",
    "\n",
    "### Quality\n",
    "\n",
    "#### Archive data \n",
    "-  1)missing record on `in reply to user id/user_status`,`retweeted_status_id/user_id`,`retweeted_status_timestamp`\n",
    "- 2)  +000 in `timestamp` data \n",
    "\n",
    "- 3) `timestampt` is not datatime.\n",
    "\n",
    "- 4)`name` has strange name like 'a', 'an' ,'the' ,'by' , 'quite','actually', 'just','one','his','my','very', 'not'\n",
    "\n",
    "- 5) OliviÃ©r, old, RalphÃ©, AmÃ©lie,GÃ²rdÃ³n,,FrÃ¶nq,getting, DevÃ³n in name\n",
    "- 6)`expand_url` is NA \n",
    "- 7) `source` looks confused.\n",
    "\n",
    "\n",
    "\n",
    "#### predict data\n",
    " \n",
    "- 8)name content is inconsistent with uppercase, space and \"_\" .\n"
   ]
  },
  {
   "cell_type": "markdown",
   "metadata": {},
   "source": [
    "## Step 3 : Clean"
   ]
  },
  {
   "cell_type": "markdown",
   "metadata": {},
   "source": [
    "\n",
    "### Tidiness\n",
    "\n",
    "### Archive data \n",
    "\n",
    "\n",
    "- `rating_numerator`,`rating_denominator` are redundant.Leaving 2 columns like this doesn't communicate any meaning because the denominator column only has 1 value which is 10. Therefore it is better to divide `rating_numerator` with `raating_denominator`, after that we can rank them and visualize them to know what type of dogs have the highest ranking and observe the distribution of rating range. \n",
    "\n",
    "\n",
    "- `doggo` `floofer`, `pupper`,`puppo` are redundant. These data can be combined in 1 column by extract `doggo`,`floofer`,`pupper`,`puppo` from the `text` column into 1 columns. These excessive columns can be dropped to make the table look clean.\n",
    "\n",
    "\n",
    "\n",
    "### Quality\n",
    "\n",
    "#### Archive data \n",
    "-  missing record on `in reply to user id/user_status`,`retweeted_status_id/user_id`,`retweeted_status_timestamp`,`expand_url`(mean no tweet you retweet )are NA so that is quite useless. Therefore, should drop them.\n",
    "- For further visualization, +000 must be remove and assign datatime type for `timestamp` data.\n",
    "- There are strange name like 'a', 'an', 'the', 'by' , 'quite','actually', 'just','one','his','my','very', 'not' due to wrong extract from the`text`. Use replace to change these names into None. Same goes with these wrong spelling names OliviÃ©r, old, RalphÃ©, AmÃ©lie,GÃ²rdÃ³n,,FrÃ¶nq,getting, DevÃ³n. This time , we need to change to proper names\n",
    "- replace the source content by ‘Twitter for iphone’, ‘Vine - Make a Scene’, ‘Twitter Web Client’, and ‘TweetDeck’.\n",
    "- Capitalize first Letter of name for consitance, replace '_' with space , add space in name of bread in p1 p2 p3 \n",
    "\n",
    "Cleaning data comsume alot of time , therefore I only address 8 quality issue and 2 tidiness issue, this project can be improve by delete `jpg_url`\n",
    "`img_num` , `timestamp_y`, seperate `text` into 3 columns. Moreover, the contents in `tweet_archive_atrr` is a little bit messy when `p1` ,`p2`, `p3` can be all TRUE or all FALSE. Ths can be done by using regrex and extract , drop columns. \n",
    "There are names that are  unrelated to dogs type including shopping-cart, banana, etc which can be enhanced by screening out.   \n",
    "\n",
    "After merging 3 data: twitter_archive_enhance, predict, and twitter_attr, the new data is store in \"twitter_master\" "
   ]
  }
 ],
 "metadata": {
  "kernelspec": {
   "display_name": "Python 3",
   "language": "python",
   "name": "python3"
  },
  "language_info": {
   "codemirror_mode": {
    "name": "ipython",
    "version": 3
   },
   "file_extension": ".py",
   "mimetype": "text/x-python",
   "name": "python",
   "nbconvert_exporter": "python",
   "pygments_lexer": "ipython3",
   "version": "3.7.3"
  }
 },
 "nbformat": 4,
 "nbformat_minor": 2
}
